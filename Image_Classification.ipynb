{
  "nbformat": 4,
  "nbformat_minor": 0,
  "metadata": {
    "colab": {
      "provenance": [],
      "authorship_tag": "ABX9TyPkVonx39/2jhhagG3ApZCo"
    },
    "kernelspec": {
      "name": "python3",
      "display_name": "Python 3"
    },
    "language_info": {
      "name": "python"
    }
  },
  "cells": [
    {
      "cell_type": "code",
      "source": [
        "import os\n",
        "from sklearn.model_selection import train_test_split\n",
        "from sklearn import preprocessing\n",
        "from sklearn.utils import shuffle\n",
        "from PIL import Image\n",
        "import numpy as np\n",
        "import matplotlib.pyplot as plt\n",
        "from tensorflow.keras.preprocessing.image import ImageDataGenerator"
      ],
      "metadata": {
        "id": "RS_B8GWfJTG_"
      },
      "execution_count": 1,
      "outputs": []
    },
    {
      "cell_type": "code",
      "execution_count": 2,
      "metadata": {
        "colab": {
          "base_uri": "https://localhost:8080/"
        },
        "id": "N-Q18Qx4HQ72",
        "outputId": "770eebdc-7a51-45ec-9b18-6ec656305240"
      },
      "outputs": [
        {
          "output_type": "stream",
          "name": "stdout",
          "text": [
            "Mounted at /content/drive\n"
          ]
        }
      ],
      "source": [
        "from google.colab import drive\n",
        "drive.mount('/content/drive')"
      ]
    },
    {
      "cell_type": "code",
      "source": [
        "data_folder = \"/content/drive/MyDrive/Datasets/Eye Diseases\"\n",
        "a\n",
        "class_names = os.listdir(data_folder)\n",
        "\n",
        "data = []\n",
        "labels = []\n",
        "\n",
        "for class_name in class_names:\n",
        "    class_folder = os.path.join(data_folder, class_name)\n",
        "    for filename in os.listdir(class_folder):\n",
        "        img_path = os.path.join(class_folder, filename)\n",
        "        img = Image.open(img_path)\n",
        "        img = img.resize((224, 224))\n",
        "        img_array = np.array(img)\n",
        "        data.append(img_array)\n",
        "        labels.append(class_name)\n",
        "\n",
        "data, labels = shuffle(data, labels, random_state=42)\n",
        "le = preprocessing.LabelEncoder()\n",
        "labels_encoded = le.fit_transform(labels)\n",
        "\n",
        "train_data, test_data, train_labels, test_labels = train_test_split(data, labels_encoded, test_size=0.2, random_state=42)\n",
        "\n",
        "train_data = np.array(train_data)\n",
        "test_data = np.array(test_data)\n",
        "train_labels = np.array(train_labels)\n",
        "test_labels = np.array(test_labels)\n",
        "original_label = le.inverse_transform([train_labels[0]])[0]\n",
        "plt.imshow(train_data[0])\n",
        "plt.title(f\"Class: {original_label}\")\n",
        "plt.axis('off');"
      ],
      "metadata": {
        "id": "o5EI0ks0IbP1"
      },
      "execution_count": null,
      "outputs": []
    }
  ]
}